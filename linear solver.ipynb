{
 "cells": [
  {
   "cell_type": "code",
   "execution_count": 1,
   "id": "48232b1a-39f7-4a3a-acde-5f4a7650795b",
   "metadata": {},
   "outputs": [],
   "source": [
    "#create function that will sepertate left and right equations\n",
    "#Total of x coeficents on left and right\n",
    "#Total of integers in left and right\n",
    "#bring x's to one side and integers to other\n",
    "#divide integer by x coefficent to solve for x\n",
    "\n",
    "#solve for 4+6x=-2+12-x"
   ]
  },
  {
   "cell_type": "code",
   "execution_count": 41,
   "id": "e1ee8248-923d-4f53-88e3-ac7eef042f43",
   "metadata": {},
   "outputs": [
    {
     "name": "stdin",
     "output_type": "stream",
     "text": [
      " 3x + 56 = 9x - 67\n"
     ]
    },
    {
     "name": "stdout",
     "output_type": "stream",
     "text": [
      "[[['+', '3', 'x'], ['+', '5', '6']], [['+', '9', 'x'], ['-', '6', '7']]]\n",
      "[['+', '5', '6']]\n",
      "[['-', '6', '7']]\n",
      "[['+', '3']]\n",
      "[['+', '9']]\n",
      "-6 x = -123\n",
      "x = 20.5\n"
     ]
    }
   ],
   "source": [
    "class Solve:\n",
    "    def __init__(self,equation):\n",
    "        self.equation = list(equation)\n",
    "        \n",
    "    def equationtidy(self):\n",
    "        equationtidy=[]\n",
    "        for i in self.equation:\n",
    "            if ' ' != i:\n",
    "                equationtidy.append(i)\n",
    "        return equationtidy\n",
    "    \n",
    "    def seperate(self):\n",
    "        global equationleft,equationright\n",
    "        for i in range(len(self.equationtidy())):\n",
    "            if '=' == self.equationtidy()[i]:\n",
    "                equationleft = self.equationtidy()[:i]\n",
    "                equationright = self.equationtidy()[i+1:]\n",
    "                break\n",
    "        return [equationleft,equationright]\n",
    "\n",
    "    \n",
    "    def symbolfinder(self):\n",
    "        global symbollistleft,symbollistright\n",
    "        symbols = ['+','-']\n",
    "        symbollistleft , symbollistright = [] , []\n",
    "        symbollist = [symbollistleft,symbollistright]\n",
    "        for i,j in enumerate(self.seperate()):\n",
    "            for s,t in enumerate(j):\n",
    "                if t in symbols:\n",
    "                    symbollist[i].append(s)\n",
    "        return symbollist\n",
    "    \n",
    "    def identify(self):\n",
    "        allist=[]\n",
    "        for i,symbollists in enumerate(self.seperate()):\n",
    "            smalllist=[]\n",
    "            for j in range(len(symbollists)):\n",
    "                if j==0:\n",
    "                    minilist=[]\n",
    "                    minilist.append(self.seperate()[i][j])\n",
    "                elif j in self.symbolfinder()[i]:\n",
    "                    if minilist[0]!= '+' and minilist[0]!='-':\n",
    "                        minilist.insert(0,'+')\n",
    "                    smalllist.append(minilist)\n",
    "                    minilist=[]\n",
    "                    minilist.append(self.seperate()[i][j])\n",
    "                else:\n",
    "                    minilist.append(self.seperate()[i][j])\n",
    "                    \n",
    "            if minilist[0]!= '+' and minilist[0]!='-':\n",
    "                minilist.insert(0,'+')\n",
    "            smalllist.append(minilist)\n",
    "            allist.append(smalllist)\n",
    "        return allist\n",
    "\n",
    "    \n",
    "    def simplify(self):\n",
    "        allist = self.identify()\n",
    "        \n",
    "        leftintegers , rightintegers = [] , []\n",
    "        leftcoefficents, rightcoefficents = [] , []\n",
    "        \n",
    "        for i,leftright in enumerate(allist):\n",
    "            for j in leftright:\n",
    "                coefficent=0\n",
    "                jwithoutx = []\n",
    "                #identifing whether it is a coef or int\n",
    "                #also removes x from coef after idetifing since we know it has an x\n",
    "                for k in j:\n",
    "                    if 'x' == k:\n",
    "                        coefficent=1\n",
    "                    else:\n",
    "                        jwithoutx.append(k)\n",
    "                #accounting for the special case of just writng x which is assumed to be 1x\n",
    "                if jwithoutx==['-']: jwithoutx=['-','1']\n",
    "                elif jwithoutx==['+']: jwithoutx=['+','1']\n",
    "                    \n",
    "                if coefficent:\n",
    "                    if i==0:\n",
    "                        leftcoefficents.append(jwithoutx)\n",
    "                    else:\n",
    "                        rightcoefficents.append(jwithoutx)\n",
    "                else:\n",
    "                    if i==0:\n",
    "                        leftintegers.append(j)\n",
    "                    else:\n",
    "                        rightintegers.append(j)\n",
    "        \n",
    "        print(leftintegers)\n",
    "        print(rightintegers)\n",
    "        print(leftcoefficents)\n",
    "        print(rightcoefficents)\n",
    "        \n",
    "    \n",
    "        def numbify(bringtoside,leaveside):\n",
    "            outputlist=[]\n",
    "            outputnumber=0\n",
    "            for i in bringtoside:\n",
    "                outputlist.append(i)\n",
    "            for i in leaveside:\n",
    "                reverse=[]\n",
    "                for j in i:\n",
    "                    if '+' == j:\n",
    "                        reverse.append('-')\n",
    "                    elif '-' == j:\n",
    "                        reverse.append('+')\n",
    "                    else:\n",
    "                        reverse.append(j)\n",
    "                outputlist.append(reverse)\n",
    "            \n",
    "            for i in range(len(outputlist)):\n",
    "                outputnumber += int(''.join(outputlist[i]))\n",
    "            \n",
    "            return outputnumber\n",
    "        \n",
    "        global intright, coefleft\n",
    "        intright = numbify(rightintegers,leftintegers)\n",
    "        coefleft = numbify(leftcoefficents,rightcoefficents)\n",
    "        \n",
    "        return f'{coefleft} x = {intright}'\n",
    "    \n",
    "    \n",
    "    def solve(self):\n",
    "        return f'x = {intright/coefleft}'\n",
    "        \n",
    "    #def graph(self):    \n",
    "        \n",
    "        \n",
    "problem = Solve(input())\n",
    "\n",
    "#print(problem.equation)\n",
    "#print(problem.equationtidy())\n",
    "#print(problem.seperate())\n",
    "#print(problem.symbolfinder())\n",
    "print(problem.identify())\n",
    "print(problem.simplify())\n",
    "print(problem.solve())"
   ]
  },
  {
   "cell_type": "code",
   "execution_count": 8,
   "id": "35d0c900-b24b-4cda-99f0-ce5ca5548e58",
   "metadata": {},
   "outputs": [
    {
     "data": {
      "text/plain": [
       "['-', '2', '+', '1', '2', '-', 'x']"
      ]
     },
     "execution_count": 8,
     "metadata": {},
     "output_type": "execute_result"
    }
   ],
   "source": [
    "#4+6x=-2+12-x\n",
    "# 12x -4 +16 -4 +5x - x = 0 - 0x +14 +x \n",
    "ab=list('-2+12-x')\n",
    "ab"
   ]
  },
  {
   "cell_type": "code",
   "execution_count": 26,
   "id": "49301bf8-2f05-42c0-b7e0-760562be7d3e",
   "metadata": {},
   "outputs": [
    {
     "data": {
      "text/plain": [
       "[0, 2, 5]"
      ]
     },
     "execution_count": 26,
     "metadata": {},
     "output_type": "execute_result"
    }
   ],
   "source": [
    "symbols = ['+','-']\n",
    "ab2=[]\n",
    "for i,j in enumerate(ab):\n",
    "    if j in symbols:\n",
    "        ab2.append(i)\n",
    "ab2"
   ]
  },
  {
   "cell_type": "code",
   "execution_count": 31,
   "id": "9184f044-c759-460f-b0a1-eb537cbc2ce5",
   "metadata": {},
   "outputs": [],
   "source": [
    "ab2.remove(2)"
   ]
  },
  {
   "cell_type": "code",
   "execution_count": 55,
   "id": "8b2091d0-467c-4c28-8eb8-ef763b9c6681",
   "metadata": {},
   "outputs": [
    {
     "data": {
      "text/plain": [
       "[]"
      ]
     },
     "execution_count": 55,
     "metadata": {},
     "output_type": "execute_result"
    }
   ],
   "source": [
    "ab2[:0]"
   ]
  },
  {
   "cell_type": "code",
   "execution_count": 46,
   "id": "b95a2dd6-e243-44ed-9bd7-36f0557c05a0",
   "metadata": {},
   "outputs": [
    {
     "name": "stdout",
     "output_type": "stream",
     "text": [
      "cat}\n",
      "cat}\n",
      "cat}\n",
      "cat}\n",
      "hello\n"
     ]
    }
   ],
   "source": [
    "for i in range(5):\n",
    "    if i == 4:\n",
    "        print('hello')\n",
    "    else:\n",
    "        print('cat}')"
   ]
  },
  {
   "cell_type": "code",
   "execution_count": 62,
   "id": "8fea8a4f-c5ce-4ac0-9f0f-2fe9dfbff8b0",
   "metadata": {},
   "outputs": [
    {
     "data": {
      "text/plain": [
       "True"
      ]
     },
     "execution_count": 62,
     "metadata": {},
     "output_type": "execute_result"
    }
   ],
   "source": [
    "1 in [1,2,4,5]"
   ]
  },
  {
   "cell_type": "code",
   "execution_count": 84,
   "id": "ba032131-1722-40dd-9904-ae5d80e66f7d",
   "metadata": {},
   "outputs": [
    {
     "data": {
      "text/plain": [
       "2"
      ]
     },
     "execution_count": 84,
     "metadata": {},
     "output_type": "execute_result"
    }
   ],
   "source": [
    "+4-2"
   ]
  },
  {
   "cell_type": "code",
   "execution_count": 16,
   "id": "5a312fa4-0102-481d-9e20-118c932d6002",
   "metadata": {},
   "outputs": [
    {
     "data": {
      "text/plain": [
       "-1"
      ]
     },
     "execution_count": 16,
     "metadata": {},
     "output_type": "execute_result"
    }
   ],
   "source": [
    "int('-1')"
   ]
  },
  {
   "cell_type": "code",
   "execution_count": 21,
   "id": "d3f1f631-7e9d-4428-b954-d75bf799ed1b",
   "metadata": {},
   "outputs": [
    {
     "data": {
      "text/plain": [
       "-3"
      ]
     },
     "execution_count": 21,
     "metadata": {},
     "output_type": "execute_result"
    }
   ],
   "source": [
    "iouy=0\n",
    "iouy += -3\n",
    "iouy"
   ]
  },
  {
   "cell_type": "code",
   "execution_count": null,
   "id": "f4371a3f-3caa-4462-9bf6-c6a71eae18b5",
   "metadata": {},
   "outputs": [],
   "source": []
  }
 ],
 "metadata": {
  "kernelspec": {
   "display_name": "Python 3 (ipykernel)",
   "language": "python",
   "name": "python3"
  },
  "language_info": {
   "codemirror_mode": {
    "name": "ipython",
    "version": 3
   },
   "file_extension": ".py",
   "mimetype": "text/x-python",
   "name": "python",
   "nbconvert_exporter": "python",
   "pygments_lexer": "ipython3",
   "version": "3.9.7"
  }
 },
 "nbformat": 4,
 "nbformat_minor": 5
}
